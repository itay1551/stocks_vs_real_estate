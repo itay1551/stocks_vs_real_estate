{
 "cells": [
  {
   "cell_type": "code",
   "execution_count": 48,
   "metadata": {},
   "outputs": [],
   "source": [
    "start_money = 50_000\n",
    "add_every_month_first_year = 4_000\n",
    "add_every_month_2th_3th_years = 6_000\n",
    "add_every_month_4th_plus_years = 10_000\n",
    "\n",
    "monthly_rent_first_3_years = 1_400\n",
    "monthly_rent_after_3_years = 3_000\n",
    "\n",
    "return_precent = 0.08\n",
    "monthly_return = (return_precent / 12) + 1\n",
    "numbers_of_years = 20"
   ]
  },
  {
   "cell_type": "code",
   "execution_count": 49,
   "metadata": {},
   "outputs": [
    {
     "data": {
      "text/plain": [
       "1.0066666666666666"
      ]
     },
     "execution_count": 49,
     "metadata": {},
     "output_type": "execute_result"
    }
   ],
   "source": [
    "monthly_return"
   ]
  },
  {
   "cell_type": "code",
   "execution_count": 50,
   "metadata": {},
   "outputs": [
    {
     "data": {
      "text/plain": [
       "'value after 20 years 3,860,587 in average'"
      ]
     },
     "execution_count": 50,
     "metadata": {},
     "output_type": "execute_result"
    }
   ],
   "source": [
    "total = start_money\n",
    "def calucalte_monthly(total, add_every_month, monthly_rent):\n",
    "    # add mothly return\n",
    "    total = total * monthly_return\n",
    "    # add monthly investment\n",
    "    total += add_every_month\n",
    "    # deduct monthly rent\n",
    "    total -= monthly_rent\n",
    "    return total\n",
    "\n",
    "for month_count in range(numbers_of_years * 12):\n",
    "    if month_count <= 12:\n",
    "        total = calucalte_monthly(total, add_every_month_first_year, monthly_rent_first_3_years)\n",
    "    elif month_count <= 36:\n",
    "        total = calucalte_monthly(total, add_every_month_2th_3th_years, monthly_rent_first_3_years)\n",
    "    else:\n",
    "        total = calucalte_monthly(total, add_every_month_4th_plus_years, monthly_rent_after_3_years)\n",
    "\n",
    "f'value after {numbers_of_years} years {int(total):,}₪ in average'"
   ]
  },
  {
   "cell_type": "code",
   "execution_count": 56,
   "metadata": {},
   "outputs": [
    {
     "name": "stdout",
     "output_type": "stream",
     "text": [
      "need to pay every month: 7,894₪\n",
      "money need to bring to get the maskanta 425,000₪\n",
      "loan_amount: 1,275,000₪\n",
      "total_maskanta: 1,894,582₪\n",
      "bank make on you: 619,582₪\n"
     ]
    }
   ],
   "source": [
    "# calculator link https://haotzarsheli.mof.gov.il/Calculators/pages/mortgage.aspx\n",
    "# buying house:\n",
    "total_house_price_when_buying = 1_700_000\n",
    "number_of_years_paying = 20\n",
    "# calulate bank interest by numbers of years maskanta\n",
    "bank_interest = 0\n",
    "if   number_of_years_paying > 20:\n",
    "    bank_interest = 2.34\n",
    "elif number_of_years_paying > 15:\n",
    "    bank_interest = 2\n",
    "elif number_of_years_paying > 10:\n",
    "    bank_interest = 1.87\n",
    "else:\n",
    "    bank_interest = 1.6\n",
    "\n",
    "bank_interest = 1 + (bank_interest * 0.01)\n",
    "\n",
    "maskanta_price = total_house_price_when_buying * 0.75\n",
    "need_to_bring_before_maskanta = total_house_price_when_buying - maskanta_price\n",
    "\n",
    "loan_amount = maskanta_price\n",
    "for i in range(number_of_years_paying):\n",
    "    loan_amount = loan_amount * bank_interest\n",
    "\n",
    "print(f'need to pay every month: {int(loan_amount / 12 / number_of_years_paying):,}₪')\n",
    "print(f'money need to bring to get the maskanta {int(need_to_bring_before_maskanta):,}₪')\n",
    "print(f'loan_amount: {int(maskanta_price):,}₪')\n",
    "print(f'total_maskanta: {int(loan_amount):,}₪')\n",
    "print(f'bank make on you: {int(loan_amount - maskanta_price):,}₪')"
   ]
  },
  {
   "cell_type": "code",
   "execution_count": null,
   "metadata": {},
   "outputs": [],
   "source": []
  }
 ],
 "metadata": {
  "kernelspec": {
   "display_name": "Python 3.10.4 ('social_bot')",
   "language": "python",
   "name": "python3"
  },
  "language_info": {
   "codemirror_mode": {
    "name": "ipython",
    "version": 3
   },
   "file_extension": ".py",
   "mimetype": "text/x-python",
   "name": "python",
   "nbconvert_exporter": "python",
   "pygments_lexer": "ipython3",
   "version": "3.10.4"
  },
  "orig_nbformat": 4,
  "vscode": {
   "interpreter": {
    "hash": "e84d04097a97af35d0a5892150846ff4a29329f80d78ef375aba5cf3f8a10aa3"
   }
  }
 },
 "nbformat": 4,
 "nbformat_minor": 2
}
